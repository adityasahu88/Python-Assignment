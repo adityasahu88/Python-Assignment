{
  "cells": [
    {
      "cell_type": "markdown",
      "metadata": {
        "id": "view-in-github",
        "colab_type": "text"
      },
      "source": [
        "<a href=\"https://colab.research.google.com/github/adityasahu88/Python-Assignment/blob/main/Assignment_1.ipynb\" target=\"_parent\"><img src=\"https://colab.research.google.com/assets/colab-badge.svg\" alt=\"Open In Colab\"/></a>"
      ]
    },
    {
      "cell_type": "markdown",
      "metadata": {
        "id": "orUKOviyrPPD"
      },
      "source": [
        "## Question 1"
      ]
    },
    {
      "cell_type": "markdown",
      "metadata": {
        "id": "teyMQzRUrPPI"
      },
      "source": [
        "- `Take two integer numbers and return their product. If the product is greater than 1000, then return their sum if product is less than 1000 return product value only.`\n",
        "\n"
      ]
    },
    {
      "cell_type": "code",
      "execution_count": 1,
      "metadata": {
        "id": "ayeIrF3BrPPJ",
        "colab": {
          "base_uri": "https://localhost:8080/"
        },
        "outputId": "a7e9266c-7c83-4280-93d5-a1e9b4f6e282"
      },
      "outputs": [
        {
          "output_type": "stream",
          "name": "stdout",
          "text": [
            "300\n"
          ]
        }
      ],
      "source": [
        "# Please write The solution Here for above question 1:\n",
        "import math\n",
        "import os\n",
        "import numpy as np\n",
        "\n",
        "a =100\n",
        "b=200\n",
        "if(a*b>1000):\n",
        "  print(a+b)\n",
        "else :\n",
        "  print(a*b)\n"
      ]
    },
    {
      "cell_type": "markdown",
      "metadata": {
        "id": "BlP3B-_SrPPL"
      },
      "source": [
        "## question 2"
      ]
    },
    {
      "cell_type": "markdown",
      "metadata": {
        "id": "pHBmtcD_rPPM"
      },
      "source": [
        "- `Given a range of the first 10 numbers, Iterate from the start number to the end number, and In each iteration print the sum of the current number and previous number`\n",
        "\n",
        "Expected output:\n",
        "-----------------\n",
        "    Printing current and previous number sum in a range(10)\n",
        "    Current Number 0 Previous Number  0  Sum:  0\n",
        "    Current Number 1 Previous Number  0  Sum:  1\n",
        "    Current Number 2 Previous Number  1  Sum:  3\n",
        "    Current Number 3 Previous Number  2  Sum:  5\n",
        "    Current Number 4 Previous Number  3  Sum:  7\n",
        "    Current Number 5 Previous Number  4  Sum:  9\n",
        "    Current Number 6 Previous Number  5  Sum:  11\n",
        "    Current Number 7 Previous Number  6  Sum:  13\n",
        "    Current Number 8 Previous Number  7  Sum:  15\n",
        "    Current Number 9 Previous Number  8  Sum:  17"
      ]
    },
    {
      "cell_type": "code",
      "execution_count": 4,
      "metadata": {
        "id": "awXYyMy0rPPM",
        "colab": {
          "base_uri": "https://localhost:8080/"
        },
        "outputId": "d0074be0-b888-4dd0-94f6-8970f5081c03"
      },
      "outputs": [
        {
          "output_type": "stream",
          "name": "stdout",
          "text": [
            "Current Number 0 Previous Number 0 Sum 0\n",
            "Current Number 1 Previous Number 0 Sum 1\n",
            "Current Number 2 Previous Number 1 Sum 3\n",
            "Current Number 3 Previous Number 2 Sum 5\n",
            "Current Number 4 Previous Number 3 Sum 7\n",
            "Current Number 5 Previous Number 4 Sum 9\n",
            "Current Number 6 Previous Number 5 Sum 11\n",
            "Current Number 7 Previous Number 6 Sum 13\n",
            "Current Number 8 Previous Number 7 Sum 15\n",
            "Current Number 9 Previous Number 8 Sum 17\n"
          ]
        }
      ],
      "source": [
        "# Please write The solution Here for above question 2:\n",
        "for i in range(10):\n",
        "  if(i==0):\n",
        "      print(f\"Current Number {i} Previous Number {i} Sum {i}\")\n",
        "  else:\n",
        "    print(f\"Current Number {i} Previous Number {i-1} Sum {i+i-1}\")\n",
        "\n"
      ]
    },
    {
      "cell_type": "markdown",
      "metadata": {
        "id": "uv3Ag_XvrPPN"
      },
      "source": [
        "## question 3"
      ]
    },
    {
      "cell_type": "markdown",
      "metadata": {
        "id": "qqab0hnlrPPO"
      },
      "source": [
        "Given a string and an integer number n, remove characters from a string starting from zero up to n and return a new string\n",
        "\n",
        "- Example :\n",
        "     `(\"pynative\", 4) so output must be tive.`\n",
        "     \n",
        "     `Note: n must be less than the length of the string.`"
      ]
    },
    {
      "cell_type": "code",
      "execution_count": 8,
      "metadata": {
        "id": "mmIm51-UrPPO",
        "colab": {
          "base_uri": "https://localhost:8080/"
        },
        "outputId": "96a04f53-46a1-4761-98d3-5ade40e5591c"
      },
      "outputs": [
        {
          "output_type": "stream",
          "name": "stdout",
          "text": [
            "Enter a string : aditya\n",
            "enter a number : 4\n",
            "ya\n"
          ]
        }
      ],
      "source": [
        "# Please write The solution Here for above question 3:\n",
        "a=input(\"Enter a string : \")\n",
        "b=input(\"enter a number : \")\n",
        "if(int(b)>len(a)):\n",
        "  print(\"Enter a number which is less than the length of the string\")\n",
        "else:\n",
        "  print(a[int(b):])\n",
        "\n",
        "\n"
      ]
    },
    {
      "cell_type": "markdown",
      "metadata": {
        "id": "ZfJzvATtrPPP"
      },
      "source": [
        "## question 4"
      ]
    },
    {
      "cell_type": "markdown",
      "metadata": {
        "id": "vu18_vw3rPPP"
      },
      "source": [
        "### `Given a list of numbers, return True if first and last number of a list is same`\n",
        "\n",
        "    Expected Output:\n",
        "    -------------------------------------\n",
        "\n",
        "    Given list is\n",
        "    a =  [10, 20, 30, 40, 10]\n",
        "    b = [10 , 20 , 30 , 40, 10 ]\n",
        "    result is True\n",
        "\n",
        "    Given list is  \n",
        "    a = [10, 20, 30, 40, 50]\n",
        "    b = [11 , 21 , 31 , 41 , 51 ]\n",
        "    result is False"
      ]
    },
    {
      "cell_type": "code",
      "execution_count": 9,
      "metadata": {
        "id": "RpClzUi0rPPQ",
        "colab": {
          "base_uri": "https://localhost:8080/"
        },
        "outputId": "feb69394-a23f-4941-fc7b-1629160616ad"
      },
      "outputs": [
        {
          "output_type": "stream",
          "name": "stdout",
          "text": [
            "True\n"
          ]
        }
      ],
      "source": [
        "# Please write The solution Here for above question 4:\n",
        "a=[10, 20, 30, 40, 10]\n",
        "b=[10 , 20 , 30 , 40, 10 ]\n",
        "if(a[0]==a[-1] and b[0]==b[-1]):\n",
        "  print(\"True\")\n",
        "else:\n",
        "  print(\"False\")"
      ]
    },
    {
      "cell_type": "markdown",
      "metadata": {
        "id": "gtmYFnmNrPPQ"
      },
      "source": [
        "## question 5"
      ]
    },
    {
      "cell_type": "markdown",
      "metadata": {
        "id": "2vveWDzerPPQ"
      },
      "source": [
        "### Given a two Python list. Iterate both lists simultaneously such that list1 should display item in original order and list2 in reverse order\n",
        "\n",
        "    list1 = [10, 20, 30, 40]\n",
        "    list2 = [100, 200, 300, 400]\n",
        "\n",
        "\n",
        "    Expected output:\n",
        "    -----------------------------\n",
        "    10 400\n",
        "    20 300\n",
        "    30 200\n",
        "    40 100"
      ]
    },
    {
      "cell_type": "code",
      "execution_count": 16,
      "metadata": {
        "id": "p4yEcItzrPPR",
        "colab": {
          "base_uri": "https://localhost:8080/"
        },
        "outputId": "53ad4c62-4f34-4a79-a2c2-fbabeb4a1439"
      },
      "outputs": [
        {
          "output_type": "stream",
          "name": "stdout",
          "text": [
            "10 400\n",
            "20 300\n",
            "30 200\n",
            "40 100\n"
          ]
        }
      ],
      "source": [
        "# Please write The solution Here for above question 5:\n",
        "a=[10, 20, 30, 40]\n",
        "b=[100, 200, 300, 400]\n",
        "for i,j in zip(a,b[::-1]):\n",
        "  print(i,j)\n",
        "\n"
      ]
    },
    {
      "cell_type": "markdown",
      "metadata": {
        "id": "_VSRMpoarPPR"
      },
      "source": [
        "## question 6"
      ]
    },
    {
      "cell_type": "markdown",
      "metadata": {
        "id": "WaMG35ffrPPR"
      },
      "source": [
        "### Remove empty strings from the list of strings\n",
        "\n",
        "\n",
        "    list1 = [\"Mike\", \"\", \"Emma\", \"Kelly\", \"\", \"Brad\"]\n",
        "\n",
        "    Expected output:\n",
        "    ----------------------\n",
        "\n",
        "    [\"Mike\", \"Emma\", \"Kelly\", \"Brad\"]\n"
      ]
    },
    {
      "cell_type": "code",
      "execution_count": 17,
      "metadata": {
        "id": "2_KQ378orPPR",
        "colab": {
          "base_uri": "https://localhost:8080/"
        },
        "outputId": "50efb9e5-0f9b-4969-b692-28b4fca6d21b"
      },
      "outputs": [
        {
          "output_type": "stream",
          "name": "stdout",
          "text": [
            "['Mike', 'Emma', 'Kelly', 'Brad']\n"
          ]
        }
      ],
      "source": [
        "# Please write The solution Here for above question 6:\n",
        "list1 = [\"Mike\", \"\", \"Emma\", \"Kelly\", \"\", \"Brad\"]\n",
        "list2=[]\n",
        "for i in list1:\n",
        "  if(i!=\"\"):\n",
        "    list2.append(i)\n",
        "print(list2)\n",
        "\n"
      ]
    },
    {
      "cell_type": "code",
      "execution_count": null,
      "metadata": {
        "id": "9hD0g9BqrPPS"
      },
      "outputs": [],
      "source": [
        "# hr.viharatech@gmail.com"
      ]
    }
  ],
  "metadata": {
    "kernelspec": {
      "display_name": "Python 3 (ipykernel)",
      "language": "python",
      "name": "python3"
    },
    "language_info": {
      "codemirror_mode": {
        "name": "ipython",
        "version": 3
      },
      "file_extension": ".py",
      "mimetype": "text/x-python",
      "name": "python",
      "nbconvert_exporter": "python",
      "pygments_lexer": "ipython3",
      "version": "3.11.5"
    },
    "colab": {
      "provenance": [],
      "include_colab_link": true
    }
  },
  "nbformat": 4,
  "nbformat_minor": 0
}