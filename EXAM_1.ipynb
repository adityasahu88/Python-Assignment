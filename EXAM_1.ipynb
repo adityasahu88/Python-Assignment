{
  "nbformat": 4,
  "nbformat_minor": 0,
  "metadata": {
    "colab": {
      "provenance": []
    },
    "kernelspec": {
      "name": "python3",
      "display_name": "Python 3"
    },
    "language_info": {
      "name": "python"
    }
  },
  "cells": [
    {
      "cell_type": "markdown",
      "source": [
        "**Question 1**\n",
        "\n",
        "What is the output of the following code?\n",
        "x = [1, 2, 3, 4]\n",
        "print(x[1:3])\n",
        "\n",
        "a) [1, 2]\n",
        "b) [2, 3]\n",
        "c) [1, 2, 3]\n",
        "d) [2, 3, 4]\n",
        "\n"
      ],
      "metadata": {
        "id": "MY5t6FweyheA"
      }
    },
    {
      "cell_type": "code",
      "execution_count": 1,
      "metadata": {
        "colab": {
          "base_uri": "https://localhost:8080/"
        },
        "id": "14nHYi2PyIS7",
        "outputId": "22129d80-005b-474f-c0ed-59e9584c8dde"
      },
      "outputs": [
        {
          "output_type": "stream",
          "name": "stdout",
          "text": [
            "[2 3]\n"
          ]
        }
      ],
      "source": [
        "import numpy as np\n",
        "x = np.array([1, 2, 3, 4])\n",
        "print(x[1:3])"
      ]
    },
    {
      "cell_type": "markdown",
      "source": [],
      "metadata": {
        "id": "umwUcRiXyfae"
      }
    },
    {
      "cell_type": "markdown",
      "source": [
        "**Question 2 **\n",
        "\n",
        "\n",
        "Which of the following data types is immutable?\n",
        "a) List\n",
        "b) Dictionary\n",
        "c) Set\n",
        "d) Tuple\n"
      ],
      "metadata": {
        "id": "iSbXuz7tyvJJ"
      }
    },
    {
      "cell_type": "markdown",
      "source": [
        "Tuples in Python are immutable"
      ],
      "metadata": {
        "id": "fHCZNTvNy_Dy"
      }
    },
    {
      "cell_type": "markdown",
      "source": [
        "Question 3\n",
        "\n",
        "What is the output of the following code?\n",
        "x = \"hello\"\n",
        "print(x[::-1])\n",
        "\n",
        "a) olleh\n",
        "b) hello\n",
        "c) ehllo\n",
        "d) Error\n",
        "\n",
        "\n"
      ],
      "metadata": {
        "id": "a-1nMaCYzBAI"
      }
    },
    {
      "cell_type": "code",
      "source": [
        "x= \"hello\"\n",
        "print(x[::-1])"
      ],
      "metadata": {
        "colab": {
          "base_uri": "https://localhost:8080/"
        },
        "id": "8l78Tp9rywum",
        "outputId": "37559081-c552-4b83-f9fe-6d4e216f365a"
      },
      "execution_count": 2,
      "outputs": [
        {
          "output_type": "stream",
          "name": "stdout",
          "text": [
            "olleh\n"
          ]
        }
      ]
    },
    {
      "cell_type": "markdown",
      "source": [
        "Question 4\n",
        "\n",
        "Which of the following statements is true about Python functions?\n",
        "a) A function in Python can return multiple values\n",
        "b) A function in Python must always return a value\n",
        "c) A function in Python can return at most one value\n",
        "d) A function in Python cannot return a value\n",
        "\n",
        "Answer : B"
      ],
      "metadata": {
        "id": "Ml08Q32lzfZj"
      }
    },
    {
      "cell_type": "markdown",
      "source": [
        "Question 5\n",
        "Which of the following statements creates a dictionary in Python?\n",
        "a) dict = {}\n",
        "b) dict = []\n",
        "c) dict = ()\n",
        "d) dict = set()\n"
      ],
      "metadata": {
        "id": "ez2L81EIz2jj"
      }
    },
    {
      "cell_type": "code",
      "source": [
        "dict = {}\n"
      ],
      "metadata": {
        "id": "y9Jav3KazYQS"
      },
      "execution_count": 3,
      "outputs": []
    },
    {
      "cell_type": "markdown",
      "source": [
        "Question 6\n",
        "\n",
        "What is the correct syntax for defining a class in Python?\n",
        "a) class MyClass[]:\n",
        "b) class MyClass:\n",
        "c) def MyClass:\n",
        "d) function MyClass:\n",
        "\n",
        "Ans :b"
      ],
      "metadata": {
        "id": "qJFrKwn90PV5"
      }
    },
    {
      "cell_type": "markdown",
      "source": [
        "Question 7\n",
        "\n",
        "What does the len() function do?\n",
        "a) It returns the length of a list or string\n",
        "b) It returns the maximum value in a list\n",
        "c) It returns the minimum value in a list\n",
        "d) It converts a number to a string\n",
        "\n",
        "Answer : a It returns the length of a list or string"
      ],
      "metadata": {
        "id": "NlBLZnNu0YP6"
      }
    },
    {
      "cell_type": "markdown",
      "source": [
        "Question 8\n",
        "\n",
        "Which of the following methods adds an element to the end of a list?\n",
        "a) list.add(x)\n",
        "b) list.append(x)\n",
        "c) list.insert(x)\n",
        "d) list.extend(x)\n",
        "\n",
        "Ans : b list.append(x)\n"
      ],
      "metadata": {
        "id": "a5oBHHnd0YSQ"
      }
    },
    {
      "cell_type": "markdown",
      "source": [
        "Question 9\n",
        "\n",
        "Which of the following is used to handle exceptions in Python?\n",
        "a) try and except\n",
        "b) catch and except\n",
        "c) try and catch\n",
        "d) do and except\n",
        "\n",
        "Ans : c : try and catch"
      ],
      "metadata": {
        "id": "MzCBs9tT0YUj"
      }
    },
    {
      "cell_type": "markdown",
      "source": [
        "Question 10\n",
        "\n",
        "What is the result of the following code?\n",
        "a = [1, 2, 3]\n",
        "b = a\n",
        "b.append(4)\n",
        "print(a)\n",
        "\n",
        "a) [1, 2, 3]\n",
        "b) [1, 2, 3, 4]\n",
        "c) [4, 1, 2, 3]\n",
        "d) [1, 2, 3, 4, 4]\n",
        "\n",
        "Ans : b [1, 2, 3, 4]\n"
      ],
      "metadata": {
        "id": "ZU4h8_mI00Bs"
      }
    },
    {
      "cell_type": "code",
      "source": [
        "a = [1, 2, 3]\n",
        "b = a\n",
        "b.append(4)\n",
        "print(a)\n"
      ],
      "metadata": {
        "colab": {
          "base_uri": "https://localhost:8080/"
        },
        "id": "n15PPBZx0HdL",
        "outputId": "a69c8ea4-d0de-4921-a0b5-8626f0e67813"
      },
      "execution_count": 4,
      "outputs": [
        {
          "output_type": "stream",
          "name": "stdout",
          "text": [
            "[1, 2, 3, 4]\n"
          ]
        }
      ]
    },
    {
      "cell_type": "markdown",
      "source": [
        "Question 11\n",
        "\n",
        "Write a Python Programme to calculate the number of Digits and Letters in a string\n",
        "Sample Input = 123  -> Sample Output = 6\n"
      ],
      "metadata": {
        "id": "j1SCt3yP1DBS"
      }
    },
    {
      "cell_type": "code",
      "source": [
        "def sum(number):\n",
        "    total = 0\n",
        "\n",
        "\n",
        "    for digit in str(number):\n",
        "        total =total+ int(digit)\n",
        "\n",
        "    return total\n",
        "number = 789\n",
        "sum_digits = sum(number)\n",
        "print(sum_digits)"
      ],
      "metadata": {
        "colab": {
          "base_uri": "https://localhost:8080/"
        },
        "id": "G1JXVxlU020w",
        "outputId": "33cb61af-9a45-43f6-8c70-01a43ee8f7f4"
      },
      "execution_count": 8,
      "outputs": [
        {
          "output_type": "stream",
          "name": "stdout",
          "text": [
            "24\n"
          ]
        }
      ]
    },
    {
      "cell_type": "markdown",
      "source": [
        "Question 12\n",
        "Given an integer  n, perform the following conditional actions:\n",
        "Write Python Logic\n",
        "If n is odd, print Weird\n",
        "If n is even and in the inclusive range of 2 to 5 , print Not Weird\n",
        "If n is even and in the inclusive range of 6 to 20 , print Weird\n",
        "If n is even and greater than 20 , print Not Weird\n",
        "Input Format\n",
        "-----------------\n",
        "A single line containing a positive integer, n.\n",
        "\n",
        "Constraints\n",
        "-------------\n",
        "1<=n<=100\n",
        "Output Format\n",
        "----------------\n",
        "Print Weird if the number is weird. Otherwise, print Not Weird.\n",
        "\n",
        "Sample Input 0\n",
        "----------------\n",
        "3\n",
        "Sample Output 0\n",
        "-----------------\n",
        "Weird\n",
        "Explanation 0\n",
        "---------------------\n",
        "n=3  is odd and odd numbers are weird, so print Weird.\n",
        "Sample Input 1\n",
        "-------------------------\n",
        "24\n",
        "Sample Output 1\n",
        "-------------------------\n",
        "Not Weird\n",
        "Explanation 1\n",
        "---------------------------\n",
        "n > 20  and n  is even, so it is not weird.\n",
        "\n"
      ],
      "metadata": {
        "id": "5Sae9jLm1zs2"
      }
    },
    {
      "cell_type": "code",
      "source": [
        "def weird(n):\n",
        "    if i % 2 == 1:\n",
        "        print(\"Weird\")\n",
        "    elif i % 2 == 0 and 2 <= i <= 5:\n",
        "        print(\"Not Weird\")\n",
        "    elif i % 2 == 0 and 6 <= i <= 20:\n",
        "        print(\"Weird\")\n",
        "    elif i % 2 == 0 and i > 20:\n",
        "        print(\"Not Weird\")\n",
        "\n",
        "\n",
        "i = int(input(\"Enter a integer: \"))\n",
        "weird(i)"
      ],
      "metadata": {
        "colab": {
          "base_uri": "https://localhost:8080/"
        },
        "id": "SDRfhCj01vpE",
        "outputId": "4fbc6561-d609-42ec-db2a-869b4da9b13f"
      },
      "execution_count": 9,
      "outputs": [
        {
          "output_type": "stream",
          "name": "stdout",
          "text": [
            "Enter a integer: 15\n",
            "Weird\n"
          ]
        }
      ]
    },
    {
      "cell_type": "code",
      "source": [
        "Question 13\n",
        "Write a Python program to count Uppercase, Lowercase, special character and numeric values in a given string.\n",
        "sample input : data sCience 12444\n",
        "sample output :\n",
        "upper case : 1\n",
        "lower case : 10\n",
        "numbers : 5\n",
        "space : 2\n"
      ],
      "metadata": {
        "id": "yRjcztiD2NyE"
      },
      "execution_count": null,
      "outputs": []
    },
    {
      "cell_type": "code",
      "source": [
        "def count_char(input):\n",
        "    upper = 0\n",
        "    lower = 0\n",
        "    numbers = 0\n",
        "    spaces = 0\n",
        "\n",
        "    for char in input:\n",
        "        if char.isupper():\n",
        "            upper += 1\n",
        "        elif char.islower():\n",
        "            lower += 1\n",
        "        elif char.isdigit():\n",
        "            numbers += 1\n",
        "        elif char.isspace():\n",
        "            spaces += 1\n",
        "\n",
        "    return upper, lower, numbers, spaces\n",
        "\n",
        "\n",
        "input_string = \"data sCience 12444\"\n",
        "\n",
        "# Count characters\n",
        "upper_case, lower_case, numbers, spaces = count_char(input_string)\n",
        "\n",
        "# Output the result\n",
        "print(f\"Upper case: {upper_case}\")\n",
        "print(f\"Lower case: {lower_case}\")\n",
        "print(f\"Numbers: {numbers}\")\n",
        "print(f\"Spaces: {spaces}\")"
      ],
      "metadata": {
        "colab": {
          "base_uri": "https://localhost:8080/"
        },
        "id": "5ZWS5rnh1jYB",
        "outputId": "5fe09044-e43f-4416-f2c7-88d4eff84a1b"
      },
      "execution_count": 10,
      "outputs": [
        {
          "output_type": "stream",
          "name": "stdout",
          "text": [
            "Upper case: 1\n",
            "Lower case: 10\n",
            "Numbers: 5\n",
            "Spaces: 2\n"
          ]
        }
      ]
    },
    {
      "cell_type": "code",
      "source": [
        "Write a Python function to convert a given string to all uppercase if it contains at least 2 uppercase characters in the first 4 characters\n",
        "\n",
        "sample input : PYTHON data science\n",
        "sample output : PYTHON DATA SCIENCE\n"
      ],
      "metadata": {
        "id": "9Z9T1XTT27I-"
      },
      "execution_count": null,
      "outputs": []
    },
    {
      "cell_type": "code",
      "source": [
        "def to_uppercase(str):\n",
        "    upper_count = 0\n",
        "\n",
        "    for char in str[:4]:\n",
        "        if char.isupper():\n",
        "            upper_count += 1\n",
        "\n",
        "    if upper_count >= 2:\n",
        "        return input_string.upper()\n",
        "\n",
        "\n",
        "input_string = \"PYTHON data science\"\n",
        "result = to_uppercase(input_string)\n",
        "print(result)"
      ],
      "metadata": {
        "colab": {
          "base_uri": "https://localhost:8080/"
        },
        "id": "A8d-zk7q22wp",
        "outputId": "22adde12-8584-4387-b21f-cb6414c05edf"
      },
      "execution_count": 11,
      "outputs": [
        {
          "output_type": "stream",
          "name": "stdout",
          "text": [
            "PYTHON DATA SCIENCE\n"
          ]
        }
      ]
    },
    {
      "cell_type": "markdown",
      "source": [
        "print each value from the list with its index\n",
        "input = [10,11,50,34]\n",
        "Expected output = [100 , 111 , 502 , 343]\n"
      ],
      "metadata": {
        "id": "KxpKXk7i3eYP"
      }
    },
    {
      "cell_type": "code",
      "source": [
        "input=[10,11,50,34]\n",
        "for i in range(len(input)):\n",
        "    input[i] = input[i]*10+i\n",
        "print(input)"
      ],
      "metadata": {
        "colab": {
          "base_uri": "https://localhost:8080/"
        },
        "id": "KwBT7Fmx3don",
        "outputId": "328f6d14-29ef-4c5e-bfdf-70dcb4ce54aa"
      },
      "execution_count": 17,
      "outputs": [
        {
          "output_type": "stream",
          "name": "stdout",
          "text": [
            "[100, 111, 502, 343]\n"
          ]
        }
      ]
    },
    {
      "cell_type": "markdown",
      "source": [
        "Question 16\n",
        "L =  [ [ 12, 34, 25], [1, 45, 0] ]\n",
        "# find only the odd values from the above list\n",
        " Out = [25, 1, 45]\n"
      ],
      "metadata": {
        "id": "WzsZgeD24Gba"
      }
    },
    {
      "cell_type": "code",
      "source": [
        "L= [ [ 12, 34, 25], [1, 45, 0] ]\n",
        "odd_values = []\n",
        "\n",
        "for sublist in L:\n",
        "    for value in sublist:\n",
        "        if value % 2 == 1:\n",
        "            odd_values.append(value)\n",
        "\n",
        "print(odd_values)"
      ],
      "metadata": {
        "colab": {
          "base_uri": "https://localhost:8080/"
        },
        "id": "kCxG2pk14Ebi",
        "outputId": "398f8982-97ff-4f22-ee31-1ad6572de024"
      },
      "execution_count": 18,
      "outputs": [
        {
          "output_type": "stream",
          "name": "stdout",
          "text": [
            "[25, 1, 45]\n"
          ]
        }
      ]
    },
    {
      "cell_type": "code",
      "source": [],
      "metadata": {
        "id": "m2reYEM13Zfp"
      },
      "execution_count": null,
      "outputs": []
    },
    {
      "cell_type": "markdown",
      "source": [
        "Take Input\n",
        "A = 98\n",
        "B = 99\n",
        "Output = bc\n",
        "Understand the Logic Between Input and Output and Write Python Script here\n"
      ],
      "metadata": {
        "id": "hmoFRx6A4R33"
      }
    },
    {
      "cell_type": "code",
      "source": [
        "A= 98\n",
        "B= 99\n",
        "print(chr(A),chr(B))"
      ],
      "metadata": {
        "colab": {
          "base_uri": "https://localhost:8080/"
        },
        "id": "9Y8d6dV14VqK",
        "outputId": "dbc93911-6174-4534-f8e1-5c8ec2af0fcd"
      },
      "execution_count": 19,
      "outputs": [
        {
          "output_type": "stream",
          "name": "stdout",
          "text": [
            "b c\n"
          ]
        }
      ]
    },
    {
      "cell_type": "code",
      "source": [],
      "metadata": {
        "id": "tVcIqRIA4agi"
      },
      "execution_count": null,
      "outputs": []
    }
  ]
}