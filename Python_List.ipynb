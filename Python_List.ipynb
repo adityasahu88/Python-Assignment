{
  "cells": [
    {
      "cell_type": "markdown",
      "metadata": {
        "id": "view-in-github",
        "colab_type": "text"
      },
      "source": [
        "<a href=\"https://colab.research.google.com/github/adityasahu88/Python-Assignment/blob/main/Python_List.ipynb\" target=\"_parent\"><img src=\"https://colab.research.google.com/assets/colab-badge.svg\" alt=\"Open In Colab\"/></a>"
      ]
    },
    {
      "cell_type": "markdown",
      "id": "b5fabd6b",
      "metadata": {
        "id": "b5fabd6b"
      },
      "source": []
    },
    {
      "cell_type": "markdown",
      "id": "db689fc2",
      "metadata": {
        "id": "db689fc2"
      },
      "source": [
        "### Question 1: Write a Python program to count the number of elements in a list without using len.\n",
        "\n",
        "\n",
        "- `sample input : `\n",
        "    - `var = [10,11,12,13]`\n",
        "- `sample output :`\n",
        "    - `result : 4`"
      ]
    },
    {
      "cell_type": "code",
      "execution_count": 1,
      "id": "c9ce9180",
      "metadata": {
        "id": "c9ce9180",
        "colab": {
          "base_uri": "https://localhost:8080/"
        },
        "outputId": "b535428c-97ed-43f1-87de-075a8de753fa"
      },
      "outputs": [
        {
          "output_type": "stream",
          "name": "stdout",
          "text": [
            "4\n"
          ]
        }
      ],
      "source": [
        "# Please write The solution Here for above question 1:\n",
        "var = [10,11,12,13]\n",
        "count = 0\n",
        "for i in var:\n",
        "    count =count+1\n",
        "print(count)\n",
        "\n"
      ]
    },
    {
      "cell_type": "markdown",
      "id": "46f069cc",
      "metadata": {
        "id": "46f069cc"
      },
      "source": [
        "### Question 2: Write a Python program to find the maximum and minimum values in a given list.\n",
        "\n",
        "- `sample input : `\n",
        "    - `var = [10,11,12,13,14,15]`\n",
        "- `sample output :`\n",
        "    - `result : max = 15 , min = 10`"
      ]
    },
    {
      "cell_type": "code",
      "execution_count": 2,
      "id": "2cde3dcc",
      "metadata": {
        "id": "2cde3dcc",
        "colab": {
          "base_uri": "https://localhost:8080/"
        },
        "outputId": "d575e3cb-9397-49f7-bae6-5e703f8bb6e4"
      },
      "outputs": [
        {
          "output_type": "stream",
          "name": "stdout",
          "text": [
            "max =  15\n",
            "min =  10\n"
          ]
        }
      ],
      "source": [
        "# Please write The solution Here for above question 2:\n",
        "\n",
        "var = [10,11,12,13,14,15]\n",
        "print(\"max = \",max(var))\n",
        "print(\"min = \",min(var))\n",
        "\n"
      ]
    },
    {
      "cell_type": "markdown",
      "id": "0f3a2ef5",
      "metadata": {
        "id": "0f3a2ef5"
      },
      "source": [
        "### Question 3: Write a Python program to remove the first occurrence of a specified element from a list.\n",
        "\n",
        "- `sample input : `\n",
        "    - `var = [1,2,3,4,2,5]`\n",
        "- `sample output :`\n",
        "    - `result : [1,3,4,2,5]`\n",
        "    "
      ]
    },
    {
      "cell_type": "code",
      "execution_count": null,
      "id": "74b9f01a",
      "metadata": {
        "id": "74b9f01a"
      },
      "outputs": [],
      "source": [
        "# Please write The solution Here for above question 3:\n",
        "var = [1,2,3,4,2,5]\n",
        "var.remove(2)\n",
        "print(var)\n",
        "\n"
      ]
    },
    {
      "cell_type": "markdown",
      "id": "98e0fc60",
      "metadata": {
        "id": "98e0fc60"
      },
      "source": [
        "### Question 4: Write a Python program to find the average of all the elements in a list.\n",
        "\n",
        "\n",
        "- `sample input : `\n",
        "    - `var = [1,2,3,4,2,5]`\n",
        "- `sample output :`\n",
        "    - `result : 2.833 `"
      ]
    },
    {
      "cell_type": "code",
      "execution_count": 3,
      "id": "5ed30f02",
      "metadata": {
        "id": "5ed30f02",
        "colab": {
          "base_uri": "https://localhost:8080/"
        },
        "outputId": "4a98b2cc-bb64-4e68-e829-560c9cbdb598"
      },
      "outputs": [
        {
          "output_type": "stream",
          "name": "stdout",
          "text": [
            "2.8333333333333335\n"
          ]
        }
      ],
      "source": [
        "# Please write The solution Here for above question 4:\n",
        "var = [1,2,3,4,2,5]\n",
        "sum = 0\n",
        "for i in var:\n",
        "    sum = sum+i\n",
        "print(sum/len(var))\n"
      ]
    },
    {
      "cell_type": "markdown",
      "id": "17eb44eb",
      "metadata": {
        "id": "17eb44eb"
      },
      "source": [
        "### Question 5: Write a Python program to check if a list is empty or not.\n",
        "\n",
        "\n",
        "- `sample input : `\n",
        "    - `var1 = [1,2]`\n",
        "- `sample output :`\n",
        "    - `result : Not empty`\n",
        "    \n",
        "- `sample input : `\n",
        "    - `var1 = []`\n",
        "- `sample output :`\n",
        "    - `result :empty`\n",
        "    \n"
      ]
    },
    {
      "cell_type": "code",
      "execution_count": 4,
      "id": "29f0e87e",
      "metadata": {
        "id": "29f0e87e",
        "colab": {
          "base_uri": "https://localhost:8080/"
        },
        "outputId": "36c4efd1-5c1e-42b4-bb1b-6c23bd5cc97a"
      },
      "outputs": [
        {
          "output_type": "stream",
          "name": "stdout",
          "text": [
            "Not empty\n"
          ]
        }
      ],
      "source": [
        "# Please write The solution Here for above question 5:\n",
        "var1 = [1,2]\n",
        "if len(var1) == 0:\n",
        "    print(\"empty\")\n",
        "else:\n",
        "    print(\"Not empty\")\n"
      ]
    },
    {
      "cell_type": "markdown",
      "id": "fac17884",
      "metadata": {
        "id": "fac17884"
      },
      "source": [
        "### Question 6:  Write a Python program to find the index of a specified element in a list..\n",
        "\n",
        "- `sample input : `\n",
        "    - `var = [1,2,3,4,2,5]`\n",
        "- `sample output :`\n",
        "    - `result : 3 index is 2`"
      ]
    },
    {
      "cell_type": "code",
      "execution_count": 5,
      "id": "f4b33095",
      "metadata": {
        "id": "f4b33095",
        "colab": {
          "base_uri": "https://localhost:8080/"
        },
        "outputId": "a21f7c9f-b398-4258-a39c-8ec3ddeef915"
      },
      "outputs": [
        {
          "output_type": "stream",
          "name": "stdout",
          "text": [
            "1\n"
          ]
        }
      ],
      "source": [
        "# Please write The solution Here for above question 6:\n",
        "var = [1,2,3,4,2,5]\n",
        "print(var.index(2))\n"
      ]
    },
    {
      "cell_type": "markdown",
      "id": "2170d6f4",
      "metadata": {
        "id": "2170d6f4"
      },
      "source": [
        "### Question 7: Write a Python program to find which number is palindrome in below given list .\n",
        "\n",
        "- `sample input : `\n",
        "    - `var = [134,121,155]`\n",
        "- `sample output :`\n",
        "    - `result : 134 is not a palindome , 121 is a palindrome `"
      ]
    },
    {
      "cell_type": "code",
      "execution_count": 6,
      "id": "f35de8b3",
      "metadata": {
        "id": "f35de8b3",
        "colab": {
          "base_uri": "https://localhost:8080/"
        },
        "outputId": "c87a5e59-99a8-4db6-d309-4cd7c5ff21d6"
      },
      "outputs": [
        {
          "output_type": "stream",
          "name": "stdout",
          "text": [
            "134 is not a palindrome\n",
            "121 is a palindrome\n",
            "155 is not a palindrome\n"
          ]
        }
      ],
      "source": [
        "# Please write The solution Here for above question 7:\n",
        "var = ['134','121','155']\n",
        "for element in var:\n",
        "    if element == element[::-1]:\n",
        "        print(element,\"is a palindrome\")\n",
        "    else:\n",
        "        print(element,\"is not a palindrome\")\n"
      ]
    },
    {
      "cell_type": "markdown",
      "id": "f349bdb7",
      "metadata": {
        "id": "f349bdb7"
      },
      "source": [
        "### Question 8: Write a Python program to find the common elements between two lists.\n",
        "\n",
        "- `sample input : `\n",
        "    - `var1 = [1,2,3,4,10]`\n",
        "    - `var2 = [10,11,12,14]`\n",
        "- `sample output :`\n",
        "    - `result : 10`"
      ]
    },
    {
      "cell_type": "code",
      "execution_count": 8,
      "id": "a1b4c4e6",
      "metadata": {
        "id": "a1b4c4e6",
        "colab": {
          "base_uri": "https://localhost:8080/"
        },
        "outputId": "2c63cd8a-e44e-4ccd-dfe4-9f9cada0ebb4"
      },
      "outputs": [
        {
          "output_type": "stream",
          "name": "stdout",
          "text": [
            "2\n",
            "10\n"
          ]
        }
      ],
      "source": [
        "# Please write The solution Here for above question 8:\n",
        "var1 = [1,2,3,4,10]\n",
        "var2 = [10,2,12,14]\n",
        "for element in var1:\n",
        "    if element in var2:\n",
        "        print(element)\n"
      ]
    },
    {
      "cell_type": "markdown",
      "id": "d2770696",
      "metadata": {
        "id": "d2770696"
      },
      "source": [
        "### Question 9: Write a Python program to remove the duplicates from a list\n",
        "\n",
        "- `sample input : `\n",
        "    - `var = [10,11,12,10,12,24]`\n",
        "- `sample output :`\n",
        "    - `result : [10,11,12,24]`"
      ]
    },
    {
      "cell_type": "code",
      "execution_count": 9,
      "id": "7fdc2e9c",
      "metadata": {
        "id": "7fdc2e9c",
        "colab": {
          "base_uri": "https://localhost:8080/"
        },
        "outputId": "f29ba596-9d6e-4947-df70-418c4cdc6560"
      },
      "outputs": [
        {
          "output_type": "stream",
          "name": "stdout",
          "text": [
            "[24, 10, 11, 12]\n"
          ]
        }
      ],
      "source": [
        "# Please write The solution Here for above question 9:\n",
        "var = [10,11,12,10,12,24]\n",
        "print(list(set(var)))\n"
      ]
    },
    {
      "cell_type": "markdown",
      "id": "5c9a3f09",
      "metadata": {
        "id": "5c9a3f09"
      },
      "source": [
        "### Question 10:  Write a Python program to sort a list of strings in Ascii Order [Ascending order]\n",
        "\n",
        "\n",
        "- `sample input : `\n",
        "    - `var = ['a' , 'c' , 'b']`\n",
        "- `sample output :`\n",
        "    - `result : ['a' , 'b' , 'c']`\n"
      ]
    },
    {
      "cell_type": "code",
      "execution_count": 10,
      "id": "57c0c30e",
      "metadata": {
        "id": "57c0c30e",
        "colab": {
          "base_uri": "https://localhost:8080/"
        },
        "outputId": "1b3f3df6-ff46-40bf-f26d-97edfb386c8b"
      },
      "outputs": [
        {
          "output_type": "stream",
          "name": "stdout",
          "text": [
            "['a', 'b', 'c']\n"
          ]
        }
      ],
      "source": [
        "# Please write The solution Here for above question 10:\n",
        "var = ['a' , 'c' , 'b']\n",
        "print(sorted(var))\n"
      ]
    },
    {
      "cell_type": "code",
      "source": [],
      "metadata": {
        "id": "GOD3OQUC6DM_"
      },
      "id": "GOD3OQUC6DM_",
      "execution_count": null,
      "outputs": []
    }
  ],
  "metadata": {
    "kernelspec": {
      "display_name": "Python 3 (ipykernel)",
      "language": "python",
      "name": "python3"
    },
    "language_info": {
      "codemirror_mode": {
        "name": "ipython",
        "version": 3
      },
      "file_extension": ".py",
      "mimetype": "text/x-python",
      "name": "python",
      "nbconvert_exporter": "python",
      "pygments_lexer": "ipython3",
      "version": "3.11.5"
    },
    "colab": {
      "provenance": [],
      "include_colab_link": true
    }
  },
  "nbformat": 4,
  "nbformat_minor": 5
}